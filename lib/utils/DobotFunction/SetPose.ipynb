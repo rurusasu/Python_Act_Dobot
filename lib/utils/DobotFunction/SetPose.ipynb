{
 "metadata": {
  "language_info": {
   "codemirror_mode": {
    "name": "ipython",
    "version": 3
   },
   "file_extension": ".py",
   "mimetype": "text/x-python",
   "name": "python",
   "nbconvert_exporter": "python",
   "pygments_lexer": "ipython3",
   "version": "3.8.8-final"
  },
  "orig_nbformat": 2,
  "kernelspec": {
   "name": "python388jvsc74a57bd0927e85032942f05ca8198db1ba7768f07447e48e9749cf73f657c77e29e9464d",
   "display_name": "Python 3.8.8 64-bit (conda)"
  }
 },
 "nbformat": 4,
 "nbformat_minor": 2,
 "cells": [
  {
   "source": [
    "# パス設定"
   ],
   "cell_type": "markdown",
   "metadata": {}
  },
  {
   "cell_type": "code",
   "execution_count": null,
   "metadata": {},
   "outputs": [],
   "source": [
    "import sys, os"
   ]
  },
  {
   "cell_type": "code",
   "execution_count": 250,
   "metadata": {},
   "outputs": [],
   "source": [
    "sys.path.append('.')\n",
    "sys.path.append('..')\n",
    "sys.path.append('../../')"
   ]
  },
  {
   "cell_type": "code",
   "execution_count": 251,
   "metadata": {},
   "outputs": [
    {
     "output_type": "stream",
     "name": "stdout",
     "text": [
      "['d:\\\\DATA\\\\R2_Miki\\\\python\\\\AI\\\\Analysis\\\\gui\\\\DobotFunction', 'd:\\\\DATA\\\\R2_Miki\\\\python\\\\AI\\\\Analysis\\\\gui\\\\DobotDLL', 'd:\\\\DATA\\\\R2_Miki\\\\python\\\\AI\\\\Analysis\\\\data\\\\img', 'd:\\\\DATA\\\\R2_Miki\\\\python\\\\AI\\\\Analysis\\\\data\\\\linemod', 'd:\\\\DATA\\\\R2_Miki\\\\python\\\\AI\\\\Analysis\\\\data\\\\FashionMNIST', 'd:\\\\DATA\\\\R2_Miki\\\\python\\\\AI\\\\Analysis\\\\data\\\\OpenImage\\\\segmentation\\\\test', 'd:\\\\DATA\\\\R2_Miki\\\\python\\\\AI\\\\Analysis\\\\data\\\\OpenImage\\\\segmentation\\\\validation', 'd:\\\\DATA\\\\R2_Miki\\\\python\\\\AI\\\\Analysis\\\\data\\\\OpenImage\\\\segmentation\\\\train', 'd:\\\\DATA\\\\R2_Miki\\\\python\\\\AI\\\\Analysis\\\\data\\\\OpenImage\\\\segmentation', 'd:\\\\DATA\\\\R2_Miki\\\\python\\\\AI\\\\Analysis\\\\data\\\\OpenImage\\\\relationship\\\\test', 'd:\\\\DATA\\\\R2_Miki\\\\python\\\\AI\\\\Analysis\\\\data\\\\OpenImage\\\\relationship\\\\validation', 'd:\\\\DATA\\\\R2_Miki\\\\python\\\\AI\\\\Analysis\\\\data\\\\OpenImage\\\\relationship\\\\train', 'd:\\\\DATA\\\\R2_Miki\\\\python\\\\AI\\\\Analysis\\\\data\\\\OpenImage\\\\relationship', 'd:\\\\DATA\\\\R2_Miki\\\\python\\\\AI\\\\Analysis\\\\data\\\\OpenImage\\\\meta_data\\\\test', 'd:\\\\DATA\\\\R2_Miki\\\\python\\\\AI\\\\Analysis\\\\data\\\\OpenImage\\\\meta_data\\\\validation', 'd:\\\\DATA\\\\R2_Miki\\\\python\\\\AI\\\\Analysis\\\\data\\\\OpenImage\\\\meta_data\\\\train', 'd:\\\\DATA\\\\R2_Miki\\\\python\\\\AI\\\\Analysis\\\\data\\\\OpenImage\\\\meta_data', 'd:\\\\DATA\\\\R2_Miki\\\\python\\\\AI\\\\Analysis\\\\data\\\\OpenImage\\\\images\\\\test', 'd:\\\\DATA\\\\R2_Miki\\\\python\\\\AI\\\\Analysis\\\\data\\\\OpenImage\\\\images\\\\validation', 'd:\\\\DATA\\\\R2_Miki\\\\python\\\\AI\\\\Analysis\\\\data\\\\OpenImage\\\\images\\\\train', 'd:\\\\DATA\\\\R2_Miki\\\\python\\\\AI\\\\Analysis\\\\data\\\\OpenImage\\\\images', 'd:\\\\DATA\\\\R2_Miki\\\\python\\\\AI\\\\Analysis\\\\data\\\\OpenImage\\\\image_label\\\\test', 'd:\\\\DATA\\\\R2_Miki\\\\python\\\\AI\\\\Analysis\\\\data\\\\OpenImage\\\\image_label\\\\validation', 'd:\\\\DATA\\\\R2_Miki\\\\python\\\\AI\\\\Analysis\\\\data\\\\OpenImage\\\\image_label\\\\train', 'd:\\\\DATA\\\\R2_Miki\\\\python\\\\AI\\\\Analysis\\\\data\\\\OpenImage\\\\image_label', 'd:\\\\DATA\\\\R2_Miki\\\\python\\\\AI\\\\Analysis\\\\data\\\\OpenImage\\\\image_id\\\\test', 'd:\\\\DATA\\\\R2_Miki\\\\python\\\\AI\\\\Analysis\\\\data\\\\OpenImage\\\\image_id\\\\validation', 'd:\\\\DATA\\\\R2_Miki\\\\python\\\\AI\\\\Analysis\\\\data\\\\OpenImage\\\\image_id\\\\train', 'd:\\\\DATA\\\\R2_Miki\\\\python\\\\AI\\\\Analysis\\\\data\\\\OpenImage\\\\image_id', 'd:\\\\DATA\\\\R2_Miki\\\\python\\\\AI\\\\Analysis\\\\data\\\\OpenImage\\\\box\\\\test', 'd:\\\\DATA\\\\R2_Miki\\\\python\\\\AI\\\\Analysis\\\\data\\\\OpenImage\\\\box\\\\validation', 'd:\\\\DATA\\\\R2_Miki\\\\python\\\\AI\\\\Analysis\\\\data\\\\OpenImage\\\\box\\\\train', 'd:\\\\DATA\\\\R2_Miki\\\\python\\\\AI\\\\Analysis\\\\data\\\\OpenImage\\\\box', 'd:\\\\DATA\\\\R2_Miki\\\\python\\\\AI\\\\Analysis\\\\data\\\\OpenImage', 'd:\\\\DATA\\\\R2_Miki\\\\python\\\\AI\\\\Analysis\\\\data\\\\DataScienceBowl\\\\dsb2018_96', 'd:\\\\DATA\\\\R2_Miki\\\\python\\\\AI\\\\Analysis\\\\data\\\\DataScienceBowl', 'd:\\\\DATA\\\\R2_Miki\\\\python\\\\AI\\\\Analysis\\\\data\\\\cifar10', 'd:\\\\DATA\\\\R2_Miki\\\\python\\\\AI\\\\Analysis\\\\data\\\\test\\\\smoothing_img', 'd:\\\\DATA\\\\R2_Miki\\\\python\\\\AI\\\\Analysis\\\\data\\\\test\\\\noise_img', 'd:\\\\DATA\\\\R2_Miki\\\\python\\\\AI\\\\Analysis\\\\data\\\\test\\\\org_img', 'd:\\\\DATA\\\\R2_Miki\\\\python\\\\AI\\\\Analysis\\\\data\\\\test\\\\gray_img', 'd:\\\\DATA\\\\R2_Miki\\\\python\\\\AI\\\\Analysis\\\\data\\\\test\\\\edge_img', 'd:\\\\DATA\\\\R2_Miki\\\\python\\\\AI\\\\Analysis\\\\data\\\\test\\\\contrast_img', 'd:\\\\DATA\\\\R2_Miki\\\\python\\\\AI\\\\Analysis\\\\data\\\\test\\\\binary_img', 'd:\\\\DATA\\\\R2_Miki\\\\python\\\\AI\\\\Analysis\\\\data\\\\NestedUNetResults', 'd:\\\\DATA\\\\R2_Miki\\\\python\\\\AI\\\\Analysis\\\\data\\\\test', 'd:\\\\DATA\\\\R2_Miki\\\\python\\\\AI\\\\Analysis\\\\temp', 'd:\\\\DATA\\\\R2_Miki\\\\python\\\\AI\\\\Analysis\\\\NestedUNet', 'd:\\\\DATA\\\\R2_Miki\\\\python\\\\AI\\\\Analysis\\\\gui', 'd:\\\\DATA\\\\R2_Miki\\\\python\\\\AI\\\\Analysis\\\\src\\\\eval_indexes', 'd:\\\\DATA\\\\R2_Miki\\\\python\\\\AI\\\\Analysis\\\\data', 'd:\\\\DATA\\\\R2_Miki\\\\python\\\\AI\\\\Analysis', 'd:\\\\DATA\\\\R2_Miki\\\\python\\\\AI\\\\Analysis\\\\src', 'd:\\\\DATA\\\\R2_Miki\\\\python\\\\AI\\\\Analysis\\\\src\\\\config', 'd:\\\\DATA\\\\R2_Miki\\\\python\\\\AI\\\\Analysis\\\\gui\\\\DobotFunction', 'c:\\\\Users\\\\PC-2020-3\\\\.vscode\\\\extensions\\\\ms-toolsai.jupyter-2021.5.745244803\\\\pythonFiles', 'c:\\\\Users\\\\PC-2020-3\\\\.vscode\\\\extensions\\\\ms-toolsai.jupyter-2021.5.745244803\\\\pythonFiles', 'c:\\\\Users\\\\PC-2020-3\\\\.vscode\\\\extensions\\\\ms-toolsai.jupyter-2021.5.745244803\\\\pythonFiles\\\\lib\\\\python', 'C:\\\\Users\\\\PC-2020-3\\\\miniconda3\\\\python38.zip', 'C:\\\\Users\\\\PC-2020-3\\\\miniconda3\\\\DLLs', 'C:\\\\Users\\\\PC-2020-3\\\\miniconda3\\\\lib', 'C:\\\\Users\\\\PC-2020-3\\\\miniconda3', '', 'C:\\\\Users\\\\PC-2020-3\\\\AppData\\\\Roaming\\\\Python\\\\Python38\\\\site-packages', 'C:\\\\Users\\\\PC-2020-3\\\\miniconda3\\\\lib\\\\site-packages', 'C:\\\\Users\\\\PC-2020-3\\\\miniconda3\\\\lib\\\\site-packages\\\\locket-0.2.1-py3.8.egg', 'C:\\\\Users\\\\PC-2020-3\\\\miniconda3\\\\lib\\\\site-packages\\\\win32', 'C:\\\\Users\\\\PC-2020-3\\\\miniconda3\\\\lib\\\\site-packages\\\\win32\\\\lib', 'C:\\\\Users\\\\PC-2020-3\\\\miniconda3\\\\lib\\\\site-packages\\\\Pythonwin', 'C:\\\\Users\\\\PC-2020-3\\\\miniconda3\\\\lib\\\\site-packages\\\\IPython\\\\extensions', 'C:\\\\Users\\\\PC-2020-3\\\\.ipython', '.', '..', '.', '..', '../../', '.', '..', '../../', '.', '..', '../../', '.', '..', '../../', '.', '..', '../../', '.', '..', '../../', '.', '..', '../../', '.', '..', '../../', '.', '..', '../../', '.', '..', '../../', '.', '..', '../../']\n"
     ]
    }
   ],
   "source": [
    "print(sys.path)"
   ]
  },
  {
   "source": [
    "# Dobot Dill Road"
   ],
   "cell_type": "markdown",
   "metadata": {}
  },
  {
   "cell_type": "code",
   "execution_count": 252,
   "metadata": {},
   "outputs": [],
   "source": [
    "from DobotDLL import DobotDllType as dType\n",
    "from src.config.config import cfg"
   ]
  },
  {
   "cell_type": "code",
   "execution_count": 253,
   "metadata": {},
   "outputs": [
    {
     "output_type": "stream",
     "name": "stdout",
     "text": [
      "您用的dll是64位，为了顺利运行，请保证您的python环境也是64位\npython环境是： ('64bit', 'WindowsPE')\n"
     ]
    }
   ],
   "source": [
    "dll_path = cfg.DOBOT_DLL_DIR + os.sep + \"DobotDll.dll\"\n",
    "api = dType.load(dll_path)"
   ]
  },
  {
   "cell_type": "code",
   "execution_count": 254,
   "metadata": {},
   "outputs": [],
   "source": [
    "# エラーフラグ設定\n",
    "CON_STR = {\n",
    "    dType.DobotConnect.DobotConnect_NoError: \"DobotConnect_NoError\",\n",
    "    dType.DobotConnect.DobotConnect_NotFound: \"DobotConnect_NotFound\",\n",
    "    dType.DobotConnect.DobotConnect_Occupied: \"DobotConnect_Occupied\",\n",
    "}"
   ]
  },
  {
   "source": [
    "# 接続ポートの確認とコネクト"
   ],
   "cell_type": "markdown",
   "metadata": {}
  },
  {
   "cell_type": "code",
   "execution_count": 255,
   "metadata": {},
   "outputs": [],
   "source": [
    "from DobotFunction.Communication import Connect_Disconnect"
   ]
  },
  {
   "cell_type": "code",
   "execution_count": 256,
   "metadata": {},
   "outputs": [
    {
     "output_type": "stream",
     "name": "stdout",
     "text": [
      "['COM4', 'COM1']\n"
     ]
    }
   ],
   "source": [
    "# 接続ポートの確認\n",
    "portName = dType.SearchDobot(api, maxLen=128)\n",
    "print(portName)"
   ]
  },
  {
   "cell_type": "code",
   "execution_count": 257,
   "metadata": {},
   "outputs": [
    {
     "output_type": "stream",
     "name": "stdout",
     "text": [
      "Dobotに通信速度 115200 で接続されました．\n",
      "['DT1418120310']\n",
      "['']\n",
      "    起動直後のMagicianの関節座標系における各モータの速度および加速度\n",
      "    j1Velocity = 200.0\n",
      "    j1Acceleration = 200.0\n",
      "    j2Velocity = 200.0\n",
      "    j2Acceleration = 200.0\n",
      "    j3Velocity = 200.0\n",
      "    j3Acceleration = 200.0\n",
      "    j4Velocity = 200.0\n",
      "    j4Acceleration = 200.0\n",
      "    \n",
      "    起動直後のMagicianのデカルト座標系における各モータの速度および加速度\n",
      "    xyzVelocity = 200.0\n",
      "    xyzAcceleration = 200.0\n",
      "    rVelocity = 200.0\n",
      "    rAcceleration = 200.0\n",
      "    \n",
      "0\n"
     ]
    }
   ],
   "source": [
    "# コネクト\n",
    "connection_flag = False\n",
    "\n",
    "connection_flag, result = Connect_Disconnect(connection_flag, api, CON_STR)\n",
    "if connection_flag:\n",
    "    [value] = dType.GetEndEffectorSuctionCup(api)\n",
    "    print(value)"
   ]
  },
  {
   "cell_type": "code",
   "execution_count": 258,
   "metadata": {},
   "outputs": [],
   "source": [
    "# 移動方法の設定\n",
    "ptpMoveModeDict = {\n",
    "    \"JumpCoordinate\": dType.PTPMode.PTPJUMPXYZMode,\n",
    "    \"MoveJCoordinate\": dType.PTPMode.PTPMOVJXYZMode,\n",
    "    \"MoveLCoordinate\": dType.PTPMode.PTPMOVLXYZMode\n",
    "}"
   ]
  },
  {
   "cell_type": "code",
   "execution_count": 259,
   "metadata": {},
   "outputs": [],
   "source": [
    "ptpMoveMode = \"JumpCoordinate\"\n"
   ]
  },
  {
   "cell_type": "code",
   "execution_count": 260,
   "metadata": {},
   "outputs": [
    {
     "output_type": "stream",
     "name": "stdout",
     "text": [
      "0\n"
     ]
    }
   ],
   "source": [
    "response = ''\n",
    "if ptpMoveMode in ptpMoveModeDict:\n",
    "    response = ptpMoveModeDict[ptpMoveMode]\n",
    "    print(response)"
   ]
  },
  {
   "cell_type": "code",
   "execution_count": 261,
   "metadata": {},
   "outputs": [],
   "source": [
    "if response == '':\n",
    "    raise ValueError(\"指定された制御方法は存在しません。\")"
   ]
  },
  {
   "source": [
    "## 設定した姿勢に移動"
   ],
   "cell_type": "markdown",
   "metadata": {}
  },
  {
   "cell_type": "code",
   "execution_count": 265,
   "metadata": {},
   "outputs": [],
   "source": [
    "pose = {\n",
    "    \"x\": 150,\n",
    "    \"y\": -20,\n",
    "    \"z\": 21,\n",
    "    \"r\": 46,\n",
    "    \"joint1Angle\": 0.0,\n",
    "    \"joint2Angle\": 0.0,\n",
    "    \"joint3Angle\": 0.0,\n",
    "    \"joint4Angle\": 0.0,\n",
    "}\n",
    "\n",
    "ptpMoveMode = \"JumpCoordinate\""
   ]
  },
  {
   "cell_type": "code",
   "execution_count": 269,
   "metadata": {},
   "outputs": [],
   "source": [
    "#Clean Command Queued\n",
    "dType.SetQueuedCmdClear(api)\n",
    "queue_index = 0"
   ]
  },
  {
   "cell_type": "code",
   "execution_count": 270,
   "metadata": {},
   "outputs": [
    {
     "output_type": "execute_result",
     "data": {
      "text/plain": [
       "[12]"
      ]
     },
     "metadata": {},
     "execution_count": 270
    }
   ],
   "source": [
    "#Async Motion Params Setting\n",
    "dType.SetHOMEParams(api, 200, 200, 200, 200, isQueued = queue_index)\n",
    "dType.SetPTPJointParams(api, 200, 200, 200, 200, 200, 200, 200, 200, isQueued = queue_index)\n",
    "dType.SetPTPCommonParams(api, 100, 100, isQueued = queue_index)"
   ]
  },
  {
   "cell_type": "code",
   "execution_count": 271,
   "metadata": {},
   "outputs": [],
   "source": [
    "lastIndex = dType.SetPTPCmd(api, dType.PTPMode.PTPMOVLXYZMode, 200 + offset, offset, offset, offset, isQueued = 1)[0]"
   ]
  },
  {
   "cell_type": "code",
   "execution_count": 272,
   "metadata": {},
   "outputs": [],
   "source": [
    "#Start to Execute Command Queue\n",
    "dType.SetQueuedCmdStartExec(api)"
   ]
  },
  {
   "cell_type": "code",
   "execution_count": 273,
   "metadata": {},
   "outputs": [],
   "source": [
    "#Wait for Executing Last Command\n",
    "while lastIndex > dType.GetQueuedCmdCurrentIndex(api)[0]:\n",
    "    dType.dSleep(100)"
   ]
  },
  {
   "cell_type": "code",
   "execution_count": 274,
   "metadata": {},
   "outputs": [],
   "source": [
    "#Disconnect Dobot\n",
    "dType.DisconnectDobot(api)"
   ]
  }
 ]
}